{
 "cells": [
  {
   "cell_type": "code",
   "execution_count": 1,
   "metadata": {},
   "outputs": [],
   "source": [
    "from qiskit import *\n",
    "from qiskit.tools.visualization import *\n",
    "import random"
   ]
  },
  {
   "cell_type": "markdown",
   "metadata": {},
   "source": [
    "ベースとなる親クラス"
   ]
  },
  {
   "cell_type": "code",
   "execution_count": 2,
   "metadata": {},
   "outputs": [],
   "source": [
    "class Person(object):\n",
    "\n",
    "    def __init__(self):\n",
    "        self.bn = 10\n",
    "\n",
    "    # 任意の2進数を生成する。\n",
    "    def generate_bit(self):\n",
    "        max = int('1' * self.bn,2)\n",
    "        tmp = random.randint(1, max)\n",
    "        return format(tmp,'b').zfill(self.bn)\n",
    "\n",
    "    # キーを生成する\n",
    "    def generate_key(self,b1,b2,target):\n",
    "        key = ''\n",
    "        x = format(int(b1, 2)^int(b2, 2),'b').zfill(self.bn)\n",
    "        for i in range(self.bn):\n",
    "            if '0' == x[i]:\n",
    "                key += target[i]\n",
    "        return key"
   ]
  },
  {
   "cell_type": "markdown",
   "metadata": {},
   "source": [
    "Aliceのクラス"
   ]
  },
  {
   "cell_type": "code",
   "execution_count": 3,
   "metadata": {},
   "outputs": [],
   "source": [
    "class Alice(Person):\n",
    "\n",
    "    # 初期化\n",
    "    def __init__(self):\n",
    "        super().__init__()\n",
    "\n",
    "    # Aliceのaを生成する (Aliceの準備 準備1 2つの2進数の生成)\n",
    "    def generate_a_alice(self):\n",
    "        self.a_alice = super().generate_bit()\n",
    "\n",
    "    # Aliceのbを生成する (Aliceの準備 準備1 2つの2進数の生成)\n",
    "    def generate_b_alice(self):\n",
    "        self.b_alice = super().generate_bit()\n",
    "\n",
    "    # Aliceのbを送信する (一致している桁の確認)\n",
    "    def send_b_alice(self):\n",
    "        return self.b_alice\n",
    "\n",
    "    # Aliceが作成した量子状態を送信する make_qbit実行後でないと意味がない(AliceからBobへ量子状態の送信)\n",
    "    def translate_qbit(self):\n",
    "        return self.qc_alice,self.q_alice\n",
    "\n",
    "    # Aliceはa,bをもとに量子状態を生成する (Aliceの準備 準備2 量子状態の生成)\n",
    "    def make_qbit(self):\n",
    "        # 量子回路を準備\n",
    "        self.q_alice = QuantumRegister(self.bn, 'q_alice') \n",
    "        self.qc_alice = QuantumCircuit(self.q_alice)\n",
    "        self.qc_alice = self.__generate_qbit(self.qc_alice,self.q_alice,self.a_alice,self.b_alice,self.bn)\n",
    "        return self.qc_alice.draw(output='mpl')\n",
    "\n",
    "    # デモ用\n",
    "    def show_alice_a_b_for_demo(self):\n",
    "        print('Alice a : ' + self.a_alice)\n",
    "        print('Alice b : ' + self.b_alice)\n",
    "\n",
    "    # デモ用\n",
    "    def show_alice_b_for_demo(self):\n",
    "        print('Alice b : ' + self.b_alice)\n",
    "\n",
    "    # 量子状態を生成する\n",
    "    def __generate_qbit(self,qci,q,a_alice,b_alice,bn):\n",
    "        for i in range(bn):\n",
    "            if '0' == a_alice[bn-1-i]:\n",
    "                if '1' == b_alice[bn-1-i]:\n",
    "                    # |+>\n",
    "                    qci.h(q[i])\n",
    "            else:\n",
    "                if '0' == b_alice[bn-1-i]:\n",
    "                    # |0>\n",
    "                    qci.x(q[i])\n",
    "                else:\n",
    "                    # |->\n",
    "                    qci.x(q[i])\n",
    "                    qci.h(q[i])\n",
    "        qci.barrier(q)\n",
    "        return qci"
   ]
  },
  {
   "cell_type": "markdown",
   "metadata": {},
   "source": [
    "Bobのクラス"
   ]
  },
  {
   "cell_type": "code",
   "execution_count": 4,
   "metadata": {},
   "outputs": [],
   "source": [
    "class Bob(Person):\n",
    "\n",
    "    # 初期化\n",
    "    def __init__(self):\n",
    "        super().__init__()\n",
    "\n",
    "    # Bobのbを生成する (Bobによる測定 準備 1つの2進数を生成)\n",
    "    def generate_b_bob(self):\n",
    "        self.b_bob = super().generate_bit()\n",
    "\n",
    "    # 量子状態を受信する (AliceからBobへ量子状態の送信)\n",
    "    def recieve_q_alice(self,q):\n",
    "        # 量子回路を準備\n",
    "        self.c_bob = ClassicalRegister(self.bn, 'c_bob')\n",
    "        self.qc_bob = QuantumCircuit(self.c_bob)\n",
    "        self.qc_bob = q[0] + self.qc_bob\n",
    "        self.q_bob = q[1]\n",
    "\n",
    "    # Bobのbを送信する (一致している桁の確認)\n",
    "    def send_b_bob(self):\n",
    "        return self.b_bob\n",
    "\n",
    "    # Bobによる測定 (Bobによる測定 測定)\n",
    "    def measure_qbit(self):\n",
    "        for i in range(self.bn):\n",
    "            if '0' == self.b_bob[self.bn-1-i]:\n",
    "                self.__z_measure(self.qc_bob,self.q_bob[i],self.c_bob[i])\n",
    "            else:\n",
    "                self.__x_measure(self.qc_bob,self.q_bob[i],self.c_bob[i])\n",
    "        r = execute(self.qc_bob, Aer.get_backend('qasm_simulator')).result()\n",
    "        rc = r.get_counts()\n",
    "        self.result_bob = random.choice(list(rc.keys()))\n",
    "        return self.result_bob\n",
    "\n",
    "    # デモ用\n",
    "    def show_bob_b_for_demo(self):\n",
    "        print('Bob b   : ' + self.b_bob)\n",
    "\n",
    "    # Bobによる測定（デモ用）\n",
    "    def measure_qbit_for_display_circit(self):\n",
    "        for i in range(self.bn):\n",
    "            if '0' == self.b_bob[self.bn-1-i]:\n",
    "                self.__z_measure(self.qc_bob,self.q_bob[i],self.c_bob[i])\n",
    "            else:\n",
    "                self.__x_measure(self.qc_bob,self.q_bob[i],self.c_bob[i])\n",
    "\n",
    "        return self.qc_bob.draw(output='mpl')\n",
    "\n",
    "    # Bobによる測定（デモ用） measure_qbit_for_displayのあとに実行しないといけない。\n",
    "    def measure_qbit_for_display_result(self):\n",
    "        r = execute(self.qc_bob, Aer.get_backend('qasm_simulator')).result()\n",
    "        rc = r.get_counts()\n",
    "        self.result_bob = random.choice(list(rc.keys()))\n",
    "        print(\"List of results Bob can measure\")\n",
    "        print(rc)\n",
    "        print(\"Bob's measurement : \" + self.result_bob)\n",
    "        return plot_histogram(rc)\n",
    "\n",
    "    # Z測定を行う\n",
    "    def __z_measure(self,qci,q,c):\n",
    "        qci.measure(q,c)\n",
    "\n",
    "    # X測定を行う\n",
    "    def __x_measure(self,qci,q,c):\n",
    "        qci.h(q)\n",
    "        qci.measure(q,c)"
   ]
  },
  {
   "cell_type": "markdown",
   "metadata": {},
   "source": [
    "アルゴリズムに従ってAliceとBobの通信を疑似的に再現します。"
   ]
  },
  {
   "cell_type": "code",
   "execution_count": 5,
   "metadata": {},
   "outputs": [
    {
     "name": "stdout",
     "output_type": "stream",
     "text": [
      "Alice a : 0110110001\n",
      "Alice b : 0100110001\n",
      "Bob b   : 0001101011\n",
      "Bob result :0011110011\n",
      "Bob key : 01101\n",
      "Alice key : 01101\n"
     ]
    }
   ],
   "source": [
    "alice = Alice()\n",
    "bob = Bob()\n",
    "# Aliceの準備 準備1 2つの2進数の生成\n",
    "alice.generate_a_alice()\n",
    "alice.generate_b_alice()\n",
    "# Aliceの準備 準備2 量子状態の生成\n",
    "alice.make_qbit()\n",
    "# Bobによる測定 準備 1つの2進数を生成\n",
    "bob.generate_b_bob()\n",
    "# デモ\n",
    "alice.show_alice_a_b_for_demo()\n",
    "bob.show_bob_b_for_demo()\n",
    "# Bobの測定\n",
    "bob.recieve_q_alice(alice.translate_qbit())\n",
    "print('Bob result :' + bob.measure_qbit())\n",
    "# 一致している桁の確認　AliceのbとBobのbを共有する\n",
    "# 一致している桁の確認　Bob側でキーを生成する\n",
    "print('Bob key : ' + bob.generate_key(alice.send_b_alice(),bob.b_bob,bob.result_bob))\n",
    "# 一致している桁の確認　Alice側でキーを生成する\n",
    "print('Alice key : ' + alice.generate_key(bob.send_b_bob(),alice.b_alice,alice.a_alice) )\n"
   ]
  },
  {
   "cell_type": "markdown",
   "metadata": {},
   "source": [
    "Eveのクラス(事前漏洩あり)"
   ]
  },
  {
   "cell_type": "code",
   "execution_count": 6,
   "metadata": {},
   "outputs": [],
   "source": [
    "class Eve(Alice,Bob):\n",
    "\n",
    "    # 初期化\n",
    "    def __init__(self,b_alice,b_bob):\n",
    "        super().__init__()\n",
    "        self.b_alice = b_alice\n",
    "        self.b_bob = b_alice\n",
    "        self.tmp_b_bob = b_bob\n",
    "\n",
    "    # Eveが測定した値をAliceのaとする\n",
    "    def set_a_alice(self,a_alice):\n",
    "        self.a_alice = a_alice"
   ]
  },
  {
   "cell_type": "markdown",
   "metadata": {},
   "source": [
    "アルゴリズムに従ってAliceとBobの通信をEveが傍受する内容を疑似的に再現します。"
   ]
  },
  {
   "cell_type": "code",
   "execution_count": 9,
   "metadata": {},
   "outputs": [
    {
     "name": "stdout",
     "output_type": "stream",
     "text": [
      "Alice a : 1010100110\n",
      "Alice b : 1111001110\n",
      "Bob b   : 0100010101\n",
      "Eve key : 011\n",
      "Bob key : 011\n",
      "Alice key : 011\n"
     ]
    }
   ],
   "source": [
    "alice = Alice()\n",
    "bob = Bob()\n",
    "# Aliceの準備 準備1 2つの2進数の生成\n",
    "alice.generate_a_alice()\n",
    "alice.generate_b_alice()\n",
    "# Aliceの準備 準備2 量子状態の生成\n",
    "alice.make_qbit()\n",
    "# Bobによる測定 準備 1つの2進数を生成\n",
    "bob.generate_b_bob()\n",
    "# デモ\n",
    "alice.show_alice_a_b_for_demo()\n",
    "bob.show_bob_b_for_demo()\n",
    "# Eve登場 AliceのbとBobのbを事前に知っているものとする。(AliceのbとBobのbを間違って先に共有してしまう。)\n",
    "# Eveの傍受開始\n",
    "# b,b'傍受\n",
    "eve = Eve(alice.send_b_alice(),bob.send_b_bob())\n",
    "# 量子状態傍受\n",
    "eve.recieve_q_alice(alice.translate_qbit())\n",
    "# 測定\n",
    "eve.set_a_alice(eve.measure_qbit())\n",
    "# 複製\n",
    "eve.make_qbit()\n",
    "# Eve側でキーを生成する\n",
    "print('Eve key : ' + eve.generate_key(eve.tmp_b_bob,eve.b_alice,eve.a_alice))\n",
    "# Bobの測定\n",
    "bob.recieve_q_alice(eve.translate_qbit())\n",
    "bob.measure_qbit()\n",
    "# Bob側でキーを生成する\n",
    "print('Bob key : ' + bob.generate_key(alice.send_b_alice(),bob.b_bob,bob.result_bob))\n",
    "# Alice側でキーを生成する\n",
    "print('Alice key : ' + alice.generate_key(bob.send_b_bob(),alice.b_alice,alice.a_alice))\n"
   ]
  },
  {
   "cell_type": "markdown",
   "metadata": {},
   "source": [
    "Eveのクラス(事前漏洩なし)"
   ]
  },
  {
   "cell_type": "code",
   "execution_count": 10,
   "metadata": {},
   "outputs": [],
   "source": [
    "class Eve(Alice,Bob):\n",
    "\n",
    "    # 初期化\n",
    "    def __init__(self):\n",
    "        super().__init__()\n",
    "        # Eveはaliceのbが分からないので自分で生成しないといけない、ついでにBobのbも\n",
    "        self.b_alice = super().generate_bit()\n",
    "        self.b_bob = super().generate_bit()\n",
    "        self.tmp_b_bob = super().generate_bit()\n",
    "\n",
    "    # Eveが測定した値をAliceのaとする\n",
    "    def set_a_alice(self,a_alice):\n",
    "        self.a_alice = a_alice"
   ]
  },
  {
   "cell_type": "markdown",
   "metadata": {},
   "source": [
    "アルゴリズムに従ってAliceとBobの通信をEveが傍受する内容を疑似的に再現します。"
   ]
  },
  {
   "cell_type": "code",
   "execution_count": 11,
   "metadata": {},
   "outputs": [
    {
     "name": "stdout",
     "output_type": "stream",
     "text": [
      "Alice a : 0011000011\n",
      "Alice b : 0010010010\n",
      "Bob b   : 1110111111\n",
      "Bob key : 1010\n",
      "Alice key : 1101\n",
      "Eve key : 000100\n"
     ]
    }
   ],
   "source": [
    "alice = Alice()\n",
    "bob = Bob()\n",
    "# Aliceの準備 準備1 2つの2進数の生成\n",
    "alice.generate_a_alice()\n",
    "alice.generate_b_alice()\n",
    "# Aliceの準備 準備2 量子状態の生成\n",
    "alice.make_qbit()\n",
    "# Bobによる測定 準備 1つの2進数を生成\n",
    "bob.generate_b_bob()\n",
    "# デモ\n",
    "alice.show_alice_a_b_for_demo()\n",
    "bob.show_bob_b_for_demo()\n",
    "# Eveの傍受開始\n",
    "eve = Eve()\n",
    "# 量子状態傍受\n",
    "eve.recieve_q_alice(alice.translate_qbit())\n",
    "# 測定\n",
    "eve.set_a_alice(eve.measure_qbit())\n",
    "# 複製\n",
    "eve.make_qbit()\n",
    "# Bobの測定\n",
    "bob.recieve_q_alice(eve.translate_qbit())\n",
    "bob.measure_qbit()\n",
    "# Bob側でキーを生成する\n",
    "print('Bob key : ' + bob.generate_key(alice.send_b_alice(),bob.b_bob,bob.result_bob))\n",
    "# Alice側でキーを生成する\n",
    "print('Alice key : ' + alice.generate_key(bob.send_b_bob(),alice.b_alice,alice.a_alice))\n",
    "# Eve側でキーを生成する\n",
    "print('Eve key : ' + eve.generate_key(eve.tmp_b_bob,eve.b_alice,eve.a_alice))"
   ]
  },
  {
   "cell_type": "code",
   "execution_count": null,
   "metadata": {},
   "outputs": [],
   "source": []
  }
 ],
 "metadata": {
  "kernelspec": {
   "display_name": "Python 3",
   "language": "python",
   "name": "python3"
  },
  "language_info": {
   "codemirror_mode": {
    "name": "ipython",
    "version": 3
   },
   "file_extension": ".py",
   "mimetype": "text/x-python",
   "name": "python",
   "nbconvert_exporter": "python",
   "pygments_lexer": "ipython3",
   "version": "3.7.4"
  }
 },
 "nbformat": 4,
 "nbformat_minor": 2
}
